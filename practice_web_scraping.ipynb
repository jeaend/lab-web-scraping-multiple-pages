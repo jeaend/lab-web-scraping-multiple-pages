{
 "cells": [
  {
   "cell_type": "code",
   "execution_count": 1,
   "metadata": {},
   "outputs": [],
   "source": [
    "from bs4 import BeautifulSoup\n",
    "import requests\n",
    "import pandas as pd\n",
    "\n",
    "from time import sleep\n",
    "from random import randint"
   ]
  },
  {
   "cell_type": "markdown",
   "metadata": {},
   "source": [
    "1. Retrieve an arbitrary Wikipedia page of \"Python\" and create a list of links on that page: `url ='https://en.wikipedia.org/wiki/Python'`"
   ]
  },
  {
   "cell_type": "code",
   "execution_count": 2,
   "metadata": {},
   "outputs": [
    {
     "data": {
      "text/plain": [
       "200"
      ]
     },
     "execution_count": 2,
     "metadata": {},
     "output_type": "execute_result"
    }
   ],
   "source": [
    "# create request \n",
    "url = \"https://en.wikipedia.org/wiki/Python\"\n",
    "response = requests.get(url)\n",
    "response.status_code"
   ]
  },
  {
   "cell_type": "code",
   "execution_count": 3,
   "metadata": {},
   "outputs": [],
   "source": [
    "# create soup\n",
    "soup = BeautifulSoup(response.content, \"html.parser\")"
   ]
  },
  {
   "cell_type": "code",
   "execution_count": 4,
   "metadata": {},
   "outputs": [
    {
     "data": {
      "text/plain": [
       "['#bodyContent',\n",
       " '/wiki/Main_Page',\n",
       " '/wiki/Wikipedia:Contents',\n",
       " '/wiki/Portal:Current_events',\n",
       " '/wiki/Special:Random']"
      ]
     },
     "execution_count": 4,
     "metadata": {},
     "output_type": "execute_result"
    }
   ],
   "source": [
    "[link.get('href') for link in soup.find_all('a') if link.get('href')][0:5] "
   ]
  },
  {
   "cell_type": "markdown",
   "metadata": {},
   "source": [
    "2. Find the number of titles that have changed in the United States Code since its last release point: `url = 'http://uscode.house.gov/download/download.shtml'`"
   ]
  },
  {
   "cell_type": "markdown",
   "metadata": {},
   "source": [
    "*Each update of the United States Code is a release point. This page provides downloadable files for the current release point. All files are current through Public Law 118-51 (04/24/2024). Titles in **bold** have been changed since the last release point*"
   ]
  },
  {
   "cell_type": "code",
   "execution_count": 5,
   "metadata": {},
   "outputs": [],
   "source": [
    "# setup\n",
    "url = \"http://uscode.house.gov/download/download.shtml\"\n",
    "response = requests.get(url)\n",
    "response.status_code\n",
    "soup = BeautifulSoup(response.content, \"html.parser\")"
   ]
  },
  {
   "cell_type": "code",
   "execution_count": 6,
   "metadata": {},
   "outputs": [
    {
     "data": {
      "text/plain": [
       "['Title 8 - Aliens and Nationality',\n",
       " 'Title 10 - Armed Forces ٭',\n",
       " 'Title 15 - Commerce and Trade',\n",
       " 'Title 16 - Conservation',\n",
       " 'Title 21 - Food and Drugs',\n",
       " 'Title 22 - Foreign Relations and Intercourse',\n",
       " 'Title 50 - War and National Defense']"
      ]
     },
     "execution_count": 6,
     "metadata": {},
     "output_type": "execute_result"
    }
   ],
   "source": [
    "[title.text.strip() for title in soup.select('div.usctitlechanged')]"
   ]
  },
  {
   "cell_type": "markdown",
   "metadata": {},
   "source": [
    "3. Create a Python list with the top ten FBI's Most Wanted names: `url = 'https://www.fbi.gov/wanted/topten'`"
   ]
  },
  {
   "cell_type": "code",
   "execution_count": 7,
   "metadata": {},
   "outputs": [
    {
     "data": {
      "text/plain": [
       "200"
      ]
     },
     "metadata": {},
     "output_type": "display_data"
    }
   ],
   "source": [
    "# adding header to avoid being blocked \n",
    "# https://medium.com/@dungwoong/pretending-im-a-human-while-web-scraping-d5464e36f24\n",
    "headers = {\"User-Agent\": \"Mozilla/5.0 (X11; Linux x86_64; rv:78.0)   Gecko/20100101 Firefox/78.0\", \n",
    "\"Referer\": \"https://www.google.com\"}\n",
    "# setup\n",
    "url = \"https://www.fbi.gov/wanted/topten\"\n",
    "response = requests.get(url, headers=headers)\n",
    "display(response.status_code)\n",
    "soup = BeautifulSoup(response.content, \"html.parser\")"
   ]
  },
  {
   "cell_type": "code",
   "execution_count": 8,
   "metadata": {},
   "outputs": [
    {
     "data": {
      "text/plain": [
       "[<a href=\"https://www.fbi.gov/wanted/topten/alejandro-castillo\">ALEJANDRO ROSALES CASTILLO</a>,\n",
       " <a href=\"https://www.fbi.gov/wanted/topten/ruja-ignatova\">RUJA IGNATOVA</a>,\n",
       " <a href=\"https://www.fbi.gov/wanted/topten/donald-eugene-fields-ii\">DONALD EUGENE FIELDS II</a>,\n",
       " <a href=\"https://www.fbi.gov/wanted/topten/wilver-villegas-palomino\">WILVER VILLEGAS-PALOMINO</a>,\n",
       " <a href=\"https://www.fbi.gov/wanted/topten/vitelhomme-innocent\">VITEL'HOMME INNOCENT</a>,\n",
       " <a href=\"https://www.fbi.gov/wanted/topten/arnoldo-jimenez\">ARNOLDO JIMENEZ</a>,\n",
       " <a href=\"https://www.fbi.gov/wanted/topten/alexis-flores\">ALEXIS FLORES</a>,\n",
       " <a href=\"https://www.fbi.gov/wanted/topten/omar-alexander-cardenas\">OMAR ALEXANDER CARDENAS</a>,\n",
       " <a href=\"https://www.fbi.gov/wanted/topten/yulan-adonay-archaga-carias\">YULAN ADONAY ARCHAGA CARIAS</a>,\n",
       " <a href=\"https://www.fbi.gov/wanted/topten/bhadreshkumar-chetanbhai-patel\">BHADRESHKUMAR CHETANBHAI PATEL</a>]"
      ]
     },
     "execution_count": 8,
     "metadata": {},
     "output_type": "execute_result"
    }
   ],
   "source": [
    "fbi_soup = soup.select('ul > li > h3 > a')\n",
    "fbi_soup"
   ]
  },
  {
   "cell_type": "code",
   "execution_count": 9,
   "metadata": {},
   "outputs": [
    {
     "data": {
      "text/plain": [
       "['ALEJANDRO ROSALES CASTILLO',\n",
       " 'RUJA IGNATOVA',\n",
       " 'DONALD EUGENE FIELDS II',\n",
       " 'WILVER VILLEGAS-PALOMINO',\n",
       " \"VITEL'HOMME INNOCENT\",\n",
       " 'ARNOLDO JIMENEZ',\n",
       " 'ALEXIS FLORES',\n",
       " 'OMAR ALEXANDER CARDENAS',\n",
       " 'YULAN ADONAY ARCHAGA CARIAS',\n",
       " 'BHADRESHKUMAR CHETANBHAI PATEL']"
      ]
     },
     "execution_count": 9,
     "metadata": {},
     "output_type": "execute_result"
    }
   ],
   "source": [
    "[name.text for name in fbi_soup]"
   ]
  },
  {
   "cell_type": "markdown",
   "metadata": {},
   "source": [
    "4. Display the 20 latest earthquakes info (date, time, latitude, longitude and region name) by the EMSC as a pandas dataframe: `url = 'https://www.emsc-csem.org/Earthquake/'`"
   ]
  },
  {
   "cell_type": "code",
   "execution_count": 10,
   "metadata": {},
   "outputs": [
    {
     "data": {
      "text/plain": [
       "<!DOCTYPE html>\n",
       "\n",
       "<html lang=\"en\"><head><meta charset=\"utf-8\"/><meta content=\"srFzNKBTd0FbRhtnzP--Tjxl01NfbscjYwkp4yOWuQY\" name=\"google-site-verification\"><meta content=\"BCAA3C04C41AE6E6AFAF117B9469C66F\" name=\"msvalidate.01\"/><meta content=\"43b36314ccb77957\" name=\"y_key\"/><meta content=\"all\" name=\"robots\"/><meta content=\"Get informed on the latest earthquakes occurred around the globe. earthquakes today - recent and latest earthquakes, earthquake map and earthquake information. Earthquake information for europe. EMSC (European Mediterranean Seismological Centre) provides real time earthquake information for seismic events with magnitude larger than 5 in the European Mediterranean area and larger than 7 in the rest of the world.\" lang=\"en\" name=\"description\"/><meta content=\"705855916142039\" property=\"fb:app_id\"/><meta content=\"en_FR\" property=\"og:locale\"/><meta content=\"website\" property=\"og:type\"/><meta content=\"EMSC - European-Mediterranean Seismological Centre\" property=\"og:site_name\"/><meta content=\"//www.emsc-csem.org/Earthquake_information/\" property=\"og:url\"/><meta content=\"Earthquake information\" property=\"og:title\"/><meta content=\"Get informed on the latest earthquakes occurred around the globe.\" property=\"og:description\"/><link href=\"/favicon.png\" rel=\"icon\" type=\"image/x-icon\"/>\n",
       "<title>Earthquake information</title>\n",
       "<script> console.log((new Date()).toString());</script><link href=\"//static3.emsc.eu/Css/m_emsc.min.css?v=2\" rel=\"stylesheet\"/><script src=\"//static1.emsc.eu/javascript/jquery-3.6.0.min.js\"></script><script> var emsc_ws_url=\"wss://cobra.emsc-csem.org/eq_search\";</script><script src=\"//static1.emsc.eu/javascript/eq_list.min.js?v=2\"></script><script defer=\"\" src=\"//static2.emsc.eu/javascript/eq_list_kml.min.js\"></script><script src=\"//static2.emsc.eu/javascript/emsc.min.js\"></script><style>.eqs{width:100%;table-layout:fixed;border-spacing:0;border-collapse:collapse}.eqs thead,.eqs tbody{width:100%}table.eqs td{padding:8px 3px;font-size:14px}table.eqs th{padding:8px 3px;font-size:16px;background-color:#F8F8F8;border-bottom:2px solid}.tbmag{text-align:center}.tblat,.tblon,.tbdep{text-align:right}.tbreg{width:30%;text-align:left;white-space:nowrap;overflow:hidden;text-overflow:ellipsis}.tbdat{width:20%;text-align:center}.tbdep{padding-right:15px!important}.lilist:hover,.lilist.hover{border:1px solid #eee;font-weight:bold;cursor:pointer}.tago{text-align:left;font-size:10px;color:grey;text-align:center}.evtyp{width:26px;height:26px;background:url(//static1.emsc.eu/Css/img/sprites_eqtype.png);float:right;margin:1px;padding:0;display:inline-block}.bg-type_sonicboom{background-position:-29px -1px}.bg-type_volcano{background-position:-1px -1px}.bg-type_explosion{background-position:-113px -1px}.bg-type_landslide{background-position:-141px -1px}.bg-type_induced{background-position:-57px -1px}.bg-type_tsunami_pending{background-position:-169px -1px}.bg-type_tsunami{background-position:-197px -1px}.bg-type_tsunami_NO{background-position:-85px -1px}.eqs tr:nth-child(2n){background:#ccc}.eqs tr.rw,.eqs tr.bow{font-weight:bold}.eqs tr.rw,tr.rw .tbdat a{color:red}.eqs th>div{font-size:small}.eqs th>span{margin-left:4px;cursor:pointer}.tbmagtyp{display:none}.tbmagtyp.mts{display:table-cell;text-align:right}.sea{text-align:center;margin-bottom:50px}.form,.form form{display:inline-block}.form{margin-top:20px}.form th{padding:5px}.fopen,.form{display:none}.search{cursor:pointer;font-size:16px;font-weight:bold}.fopen,.fclose{margin-right:10px}.rset{margin-left:20px}.with{padding-left:145px}.coords-icon{background:url(//static2.emsc.eu/Css/img/search_map_icon.png);width:106px;height:30px;margin-left:-140px;cursor:pointer;position:absolute}.moref{display:none}.more{display:inline-block;cursor:pointer;border:1px solid;padding:0 4px;border-radius:5px;font-weight:900;font-size:large;vertical-align:top;margin-top:30px}td.ic{text-align:left}#map-coord{position:absolute;left:10%;top:20%;width:80%;height:600px;display:none}.lds-dual-ring{display:inline-block;width:80px;height:80px;position:absolute;left:50%;margin-left:-40px}.lds-dual-ring:after{content:\" \";display:block;width:64px;height:64px;margin:8px;border-radius:50%;border:6px solid #000;border-color:#000 transparent #000 transparent;animation:lds-dual-ring 1.2s linear infinite}@keyframes lds-dual-ring{0%{transform:rotate(0deg)}100%{transform:rotate(360deg)}}.page-cont{text-align:center}.pag{display:inline-block;margin:10px;padding:5px 10px;border:1px solid #eee;background-color:rgb(179,0,18);color:white;cursor:pointer}.selview{background:none;color:rgb(179,0,18);cursor:default}.tbdat a{text-decoration:none;color:black}.citiz{width:80px}.dm{display:inline-block;width:50%;margin-top:3px;text-align:center}.dm.comm:after,.dm.pic:after{width:16px;height:16px;background:url(//static3.emsc.eu/Images/icon/sprite_com_pic.png);display:block;content:\"\";margin:auto}.dm.comm:after{background-position:-19px -1px}.dm.pic:after{background-position:-1px -1px}.links{text-align:center;margin-bottom:1em}.links span{margin:0 5px;cursor:pointer}.cho{color:red;font-weight:bold}.subm{margin-top:15px}.moref label{font-weight:bold;margin-right:10px}#reg{text-transform:uppercase;width:98%}.prop{min-width:200px;position:absolute;z-index:20;height:auto;border:1px solid #666;padding:8px;font-size:10px;font-family:verdana;font-weight:bold;background:white;display:none}.prop .res{width:100%}.prop .res td{cursor:pointer;text-align:left}.prop-close{float:right;color:blue}.prop-send{color:blue;text-decoration:underline;font-weight:bold;cursor:pointer}#nbres{font-weight:bold;color:red;height:20px}.download{text-align:right}.downl{display:none;margin:0 5px}#text_extra{font-size:small}</style></meta></head><body><div class=\"banner\" role=\"banner\"><div class=\"banner-ct\"><div class=\"bann-logo\">\n",
       "<a href=\"/\">\n",
       "<div class=\"spe emsc-logo\"></div>\n",
       "<div class=\"emsc-logo-label\">Centre Sismologique Euro-Méditerranéen</div>\n",
       "<div class=\"emsc-logo-label\">Euro-Mediterranean Seismological Centre</div>\n",
       "</a>\n",
       "</div><div class=\"hmenu\"><div class=\"hmenu0 hmenu1\"><div class=\"hmenus menut mt1\">Earthquakes</div><div class=\"hmenus menus\"><a href=\"//www.emsc-csem.org/Earthquake_map/\">World map</a></div><div class=\"hmenus menus\"><a href=\"//www.emsc-csem.org/Earthquake_information/\">Latest earthquakes</a></div><div class=\"hmenus menus\"><a href=\"//www.emsc-csem.org/Earthquake_data/\">Seismic data</a></div><div class=\"hmenus menus\"><a href=\"//www.emsc-csem.org/Special_reports/\">Special reports</a></div></div><div class=\"hmenu0 hmenu2\"><div class=\"hmenus menut mt2\">LastQuake</div><div class=\"hmenus menus\"><a href=\"//www.emsc-csem.org/lastquake/how_it_works/\">How it works</a></div><div class=\"hmenus menus\"><a href=\"//www.emsc-csem.org/lastquake/information_channels/\">Information channels</a></div><div class=\"hmenus menus\"><a href=\"//www.emsc-csem.org/lastquake/citizen_seismology/\">Citizen seismology</a></div></div><div class=\"hmenu0 hmenu3\"><div class=\"hmenus menut mt3\">About Us</div><div class=\"hmenus menus\"><a href=\"//www.emsc-csem.org/about_us/who_we_are/\">Who we are</a></div><div class=\"hmenus menus\"><a href=\"//www.emsc-csem.org/about_us/what_we_do/\">What we do</a></div><div class=\"hmenus menus\"><a href=\"//www.emsc-csem.org/about_us/timeline/\">Timeline</a></div></div><div class=\"hmenu0 hmenu4\"><div class=\"hmenus menut mt4\">Partner with us</div><div class=\"hmenus menus\"><a href=\"//www.emsc-csem.org/partner_with_us/mission_and_vision/\">Mission &amp; vision</a></div><div class=\"hmenus menus\"><a href=\"//www.emsc-csem.org/partner_with_us/partners/\">Partners</a></div><div class=\"hmenus menus\"><a href=\"//www.emsc-csem.org/partner_with_us/support_our_work/\">Support our work</a></div></div></div><div class=\"btncont\"><a class=\"hbt hbtdonate\" href=\"/donate/\">Donate</a><a class=\"hbt hbtlogin\" href=\"/Member/login.php\">Log in</a></div></div>\n",
       "<div class=\"emsctime\"></div>\n",
       "</div><div class=\"bandeau\"><div class=\"bandeaumv\"></div></div><div class=\"content\" role=\"main\"><div class=\"sea\"><div class=\"search\"><span class=\"fclose\">▶</span><span class=\"fopen\">▼</span>Search earthquakes</div><div class=\"form\">\n",
       "<form>\n",
       "<table><tr><th></th><th>Period</th><th>Magnitude</th><th class=\"moref\">Depth</th><th class=\"moref\">Latitude</th><th class=\"moref\">Longitude</th>\n",
       "<th class=\"moref\"></th><th class=\"moref\">Reports</th><th class=\"moref\">Images</th><th class=\"moref\">Comments</th>\n",
       "</tr>\n",
       "<tr><td>Min: </td><td><input aria-label=\"date min\" id=\"datemin\" max=\"2024-05-06\" min=\"2004-10-01\" name=\"datemin\" type=\"date\"/></td><td><input aria-label=\"magnitude min\" id=\"magmin\" max=\"11\" min=\"0\" name=\"magmin\" step=\"0.1\" type=\"number\"/></td><td><input aria-label=\"depth min\" class=\"moref\" id=\"depthmin\" max=\"10000\" min=\"-10\" name=\"depthmin\" step=\"1\" type=\"number\"/></td>\n",
       "<td><input aria-label=\"latitude min\" class=\"moref\" id=\"latmin\" max=\"90\" min=\"-90\" name=\"latmin\" step=\"0.001\" type=\"number\"/></td>\n",
       "<td class=\"ic\"><input aria-label=\"longitude min\" class=\"moref\" id=\"lonmin\" max=\"180\" min=\"-180\" name=\"lonmin\" step=\"0.001\" type=\"number\"/></td>\n",
       "<td class=\"moref with\"><div class=\"moref coords-icon\" data-maploaded=\"false\"></div>With:</td><td class=\"moref\"><input aria-label=\"with reports\" id=\"reports\" name=\"reports\" type=\"checkbox\"/></td><td class=\"moref\"><input aria-label=\"with medias\" id=\"medias\" name=\"medias\" type=\"checkbox\"/></td><td class=\"moref\"><input aria-label=\"with comments\" id=\"comms\" name=\"comms\" type=\"checkbox\"/></td>\n",
       "</tr>\n",
       "<tr><td>Max: </td><td><input aria-label=\"date max\" id=\"datemax\" max=\"2024-05-06\" min=\"2004-10-01\" name=\"datemax\" type=\"date\"/></td><td><input aria-label=\"magnitude max\" id=\"magmax\" max=\"11\" min=\"0\" name=\"magmax\" step=\"0.1\" type=\"number\"/></td><td><input aria-label=\"depth max\" class=\"moref\" id=\"depthmax\" max=\"10000\" min=\"-10\" name=\"depthmax\" step=\"1\" type=\"number\"/></td>\n",
       "<td><input aria-label=\"latitude max\" class=\"moref\" id=\"latmax\" max=\"90\" min=\"-90\" name=\"latmax\" step=\"0.001\" type=\"number\"/> </td>\n",
       "<td class=\"ic\"><input aria-label=\"longitude max\" class=\"moref\" id=\"lonmax\" max=\"180\" min=\"-180\" name=\"lonmax\" step=\"0.001\" type=\"number\"/></td>\n",
       "<td class=\"moref\"></td><td class=\"moref\"></td><td class=\"moref\"></td><td class=\"moref\"></td>\n",
       "</tr>\n",
       "<tr class=\"moref\"><td><label for=\"flynn_region\">Region Name</label></td><td colspan=\"5\"><input id=\"reg\" name=\"flynn_region\" type=\"text\"/>\n",
       "<div class=\"prop\"><table class=\"res\"><tr><td style=\"width:20px;\"><input class=\"checkall\" type=\"checkbox\"/></td><td><span class=\"prop-close\">[x]</span></td></tr></table>\n",
       "<div class=\"prop-send\">Send checked</div>\n",
       "</div></td></tr>\n",
       "</table>\n",
       "<div class=\"subm\"><input type=\"submit\" value=\"Search\"><input class=\"rset\" type=\"button\" value=\"Reset\"/></input></div>\n",
       "</form>\n",
       "<div class=\"more\">+</div>\n",
       "<div id=\"map-coord\"></div>\n",
       "</div></div><div class=\"links\"><span data-magmin=\"0\">[ Full list ]</span><span data-magmin=\"3\">[ mag≥3 ]</span><span data-magmin=\"4\">[ mag≥4 ]</span><span data-magmin=\"5\">[ mag≥5 ]</span></div><div id=\"nbres\"></div><div class=\"page-cont\"><div class=\"pag spei spei2\">«</div><div class=\"pag spei spei1\">‹</div><div class=\"pag\">1</div><div class=\"pag\">2</div><div class=\"pag\">3</div><div class=\"pag\">4</div><div class=\"pag\">5</div><div class=\"pag\">6</div><div class=\"pag\">7</div><div class=\"pag\">8</div><div class=\"pag\">9</div><div class=\"pag\">10</div><div class=\"pag spes spes1\">›</div><div class=\"pag spes spes2\">»</div></div><div class=\"download\"><span class=\"downl\">Current page:</span><a class=\"downl\" href=\"javascript:viewOnMap();\" id=\"view_map\">View on map</a> <a class=\"downl\" href=\"javascript:Emsc_kml._export();\" id=\"download_kml\" title=\"Only current page\">Export as KML</a> <a class=\"downl\" href=\"javascript:csv_export();\" id=\"download\">Export as csv</a><div class=\"downl\" id=\"text_extra\"><br/><a href=\"https://www.seismicportal.eu/fdsn-wsevent.html\">Advanced Exports</a></div></div><div class=\"htab\"><table class=\"eqs table-scroll\">\n",
       "<thead><tr><th class=\"thico\"><th class=\"citiz\" colspan=\"2\"><div>Citizen<br/>response</div><div><div class=\"dm comm\"></div><div class=\"dm pic\"></div></div></th>\n",
       "</th><th class=\"tbdat\">Date &amp; Time<div>UTC</div></th><th class=\"tblat\">Lat.<div>degrees</div></th><th class=\"tblon\">Lon.<div>degrees</div></th><th class=\"tbdep\">Depth<div>km</div></th><th class=\"tbmag\">Mag.<span>[+]</span></th><th class=\"tbreg\">Region</th></tr></thead>\n",
       "<tbody></tbody>\n",
       "</table>\n",
       "</div><div class=\"page-cont\"><div class=\"pag spei spei2\">«</div><div class=\"pag spei spei1\">‹</div><div class=\"pag\">1</div><div class=\"pag\">2</div><div class=\"pag\">3</div><div class=\"pag\">4</div><div class=\"pag\">5</div><div class=\"pag\">6</div><div class=\"pag\">7</div><div class=\"pag\">8</div><div class=\"pag\">9</div><div class=\"pag\">10</div><div class=\"pag spes spes1\">›</div><div class=\"pag spes spes2\">»</div></div><div><b>Bold : Earthquakes with a magnitude ≥ 4.5 in Euro-med, or ≥ 5.5 in the world </b><br><b style=\"color:red;\">Red : Earthquakes with a magnitude ≥ 5.0 in Euro-med, or ≥ 6.0 in the world </b><br/></br></div><script>eval(function(p,a,c,k,e,d){e=function(c){return c};if(!''.replace(/^/,String)){while(c--){d[c]=k[c]||c}k=[function(e){return d[e]}];e=function(){return'\\\\w+'};c=1};while(c--){if(k[c]){p=p.replace(new RegExp('\\\\b'+e(c)+'\\\\b','g'),k[c])}}return p}('$(8).1(7(){6.5(\"4 1\");$(\".3\").0();$(\".2\").0()});',9,9,'click|ready|more|search|Doc|log|console|function|document'.split('|'),0,{}))\n",
       "</script><script> console.log(\"TimeLoad\",0.0133330822); </script></div><div class=\"footer\"><div class=\"foot-cont\"><div class=\"part\"><div class=\"foot-logo-label\">EMSC is the European infrastructure for seismological products in</div><a aria-label=\"epos\" href=\"https://www.epos-eu.org/\" target=\"_blank\"><div class=\"spe foot-logo\"></div></a></div><div class=\"part2\"><div class=\"part-middle\"><a href=\"/faq/\">FAQ</a><a class=\"privacy\" href=\"/privacy/index.php\">© 2023 - privacy</a><a href=\"/contact/\">Contact us</a></div></div><div class=\"part p-soc\"><a aria-label=\"facebook EMSC.CSEM\" href=\"https://www.facebook.com/EMSC.CSEM/\" target=\"_blank\"><span class=\"spe f-facebook\"></span></a><a aria-label=\"twitter lastquake\" href=\"https://twitter.com/lastquake\" target=\"_blank\"><span class=\"spe f-twitter\"></span></a><a aria-label=\"linkedin emsc-csem\" href=\"https://www.linkedin.com/company/emsc-csem/\" target=\"_blank\"><span class=\"spe f-linkedin\"></span></a><a aria-label=\"youtube EuroMSC\" href=\"https://www.youtube.com/user/EuroMSC\" target=\"_blank\"><span class=\"spe f-youtube\"></span></a></div></div></div></body></html>"
      ]
     },
     "execution_count": 10,
     "metadata": {},
     "output_type": "execute_result"
    }
   ],
   "source": [
    "# create request \n",
    "url = \"https://www.emsc-csem.org/Earthquake_information/\"\n",
    "response = requests.get(url)\n",
    "response.status_code\n",
    "soup = BeautifulSoup(response.content, \"html.parser\")\n",
    "soup"
   ]
  },
  {
   "cell_type": "markdown",
   "metadata": {},
   "source": [
    "5. List all language names and number of related articles in the order they appear in [wikipedia.org](wikipedia.org): `url = 'https://www.wikipedia.org/'`"
   ]
  },
  {
   "cell_type": "code",
   "execution_count": null,
   "metadata": {},
   "outputs": [],
   "source": []
  },
  {
   "cell_type": "markdown",
   "metadata": {},
   "source": [
    "6. A list with the different kind of datasets available in [data.gov.uk](data.gov.uk): `url = 'https://data.gov.uk/'`"
   ]
  },
  {
   "cell_type": "markdown",
   "metadata": {},
   "source": [
    "7. Display the top 10 languages by number of native speakers stored in a pandas dataframe: `url = 'https://en.wikipedia.org/wiki/List_of_languages_by_number_of_native_speakers'`"
   ]
  },
  {
   "cell_type": "markdown",
   "metadata": {},
   "source": []
  }
 ],
 "metadata": {
  "kernelspec": {
   "display_name": "base",
   "language": "python",
   "name": "python3"
  },
  "language_info": {
   "codemirror_mode": {
    "name": "ipython",
    "version": 3
   },
   "file_extension": ".py",
   "mimetype": "text/x-python",
   "name": "python",
   "nbconvert_exporter": "python",
   "pygments_lexer": "ipython3",
   "version": "3.11.7"
  }
 },
 "nbformat": 4,
 "nbformat_minor": 2
}
